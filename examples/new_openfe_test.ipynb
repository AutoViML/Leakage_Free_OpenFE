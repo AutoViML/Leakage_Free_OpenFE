{
 "cells": [
  {
   "cell_type": "code",
   "execution_count": 1,
   "metadata": {},
   "outputs": [],
   "source": [
    "import numpy as np\n",
    "import pandas as pd\n",
    "from sklearn.model_selection import train_test_split\n",
    "from sklearn.datasets import load_breast_cancer, load_iris, load_wine, fetch_openml\n",
    "from sklearn.ensemble import RandomForestClassifier, RandomForestRegressor\n",
    "from leakage_free_openfe import OpenFE"
   ]
  },
  {
   "cell_type": "markdown",
   "metadata": {},
   "source": [
    "# we are now going to test a sample dataset with engineered features from Leakage-Free-OpenFE"
   ]
  },
  {
   "cell_type": "code",
   "execution_count": 2,
   "metadata": {},
   "outputs": [
    {
     "name": "stdout",
     "output_type": "stream",
     "text": [
      "Data dimensions (768 rows x 8 cols)\n",
      "Train data dimensions (rows x cols) = 4912 dims\n",
      "Test data dimensions (rows x cols) = 1232 dims\n"
     ]
    }
   ],
   "source": [
    "X, y = fetch_openml(name='diabetes', version=1, return_X_y=True, as_frame=True)\n",
    "X.columns = ['col_'+str(x+1) for x in range(len(X.columns))]\n",
    "y = y.map({'tested_positive': 1, 'tested_negative': 0}).astype(int)\n",
    "print('Data dimensions (%d rows x %d cols)' %(X.shape[0], X.shape[1]))\n",
    "X_train, X_test, y_train, y_test = train_test_split(X, y, test_size=0.2, random_state=42)\n",
    "print('Train data dimensions (rows x cols) = %d dims' %(int(X_train.shape[0]*X_train.shape[1])))\n",
    "print('Test data dimensions (rows x cols) = %d dims' %(int(X_test.shape[0]*X_test.shape[1])))"
   ]
  },
  {
   "cell_type": "code",
   "execution_count": 3,
   "metadata": {},
   "outputs": [],
   "source": [
    "base = RandomForestClassifier(n_estimators=100, random_state=42)\n",
    "eng = RandomForestClassifier(n_estimators=100, random_state=42)"
   ]
  },
  {
   "cell_type": "code",
   "execution_count": 4,
   "metadata": {},
   "outputs": [
    {
     "data": {
      "text/plain": [
       "(   col_1  col_2  col_3  col_4  col_5  col_6  col_7  col_8\n",
       " 0      6    148     72     35      0   33.6  0.627     50\n",
       " 1      1     85     66     29      0   26.6  0.351     31,\n",
       " 0    1\n",
       " 1    0\n",
       " Name: class, dtype: int32)"
      ]
     },
     "execution_count": 4,
     "metadata": {},
     "output_type": "execute_result"
    }
   ],
   "source": [
    "# Training phase\n",
    "ofe = OpenFE()\n",
    "X.head(2), y.head(2)"
   ]
  },
  {
   "cell_type": "code",
   "execution_count": 5,
   "metadata": {},
   "outputs": [
    {
     "name": "stdout",
     "output_type": "stream",
     "text": [
      "The number of candidate features is 428\n",
      "Start stage I selection.\n"
     ]
    },
    {
     "name": "stderr",
     "output_type": "stream",
     "text": [
      "100%|██████████| 4/4 [00:15<00:00,  3.76s/it]\n"
     ]
    },
    {
     "name": "stdout",
     "output_type": "stream",
     "text": [
      "119 same features have been deleted.\n",
      "Meet early-stopping in successive feature-wise halving.\n"
     ]
    },
    {
     "name": "stderr",
     "output_type": "stream",
     "text": [
      "100%|██████████| 4/4 [00:13<00:00,  3.41s/it]\n"
     ]
    },
    {
     "name": "stdout",
     "output_type": "stream",
     "text": [
      "The number of remaining candidate features is 283\n",
      "Start stage II selection.\n"
     ]
    },
    {
     "name": "stderr",
     "output_type": "stream",
     "text": [
      "100%|██████████| 4/4 [00:09<00:00,  2.39s/it]\n"
     ]
    },
    {
     "name": "stdout",
     "output_type": "stream",
     "text": [
      "Finish data processing.\n",
      "[LightGBM] [Info] Number of positive: 170, number of negative: 321\n",
      "[LightGBM] [Info] Auto-choosing col-wise multi-threading, the overhead of testing was 0.003105 seconds.\n",
      "You can set `force_col_wise=true` to remove the overhead.\n",
      "[LightGBM] [Info] Total Bins 20170\n",
      "[LightGBM] [Info] Number of data points in the train set: 491, number of used features: 291\n"
     ]
    }
   ],
   "source": [
    "features = ofe.fit(X_train, y_train)"
   ]
  },
  {
   "cell_type": "code",
   "execution_count": 7,
   "metadata": {},
   "outputs": [
    {
     "name": "stdout",
     "output_type": "stream",
     "text": [
      "(614, 8)\n",
      "Transformed shape:  (614, 28)\n"
     ]
    }
   ],
   "source": [
    "X_trans = ofe.transform(X_train, is_train=True, new_features_list=features[:100], n_jobs=4)\n",
    "print(X_train.shape)\n",
    "print('Transformed shape: ', X_trans.shape)"
   ]
  },
  {
   "cell_type": "code",
   "execution_count": 8,
   "metadata": {},
   "outputs": [
    {
     "name": "stdout",
     "output_type": "stream",
     "text": [
      "(154, 8)\n",
      "Transformed test:  (154, 28)\n"
     ]
    }
   ],
   "source": [
    "# Test phase - uses stored training stats\n",
    "X_test_trans = ofe.transform(X_test, is_train=False, new_features_list=features[:100], n_jobs=4)\n",
    "print(X_test.shape)\n",
    "print('Transformed test: ', X_test_trans.shape)"
   ]
  },
  {
   "cell_type": "code",
   "execution_count": 10,
   "metadata": {},
   "outputs": [
    {
     "name": "stdout",
     "output_type": "stream",
     "text": [
      "283\n",
      "printing the first five features:\n",
      "(col_2*col_8)\n",
      "(col_2*col_6)\n",
      "(col_6*col_8)\n",
      "(col_6+col_7)\n",
      "log(col_2)\n"
     ]
    }
   ],
   "source": [
    "from leakage_free_openfe import tree_to_formula\n",
    "print(len(features))\n",
    "print('printing the first five features:')\n",
    "for ax in features[:5]:\n",
    "    print(tree_to_formula(ax))"
   ]
  },
  {
   "cell_type": "code",
   "execution_count": 11,
   "metadata": {},
   "outputs": [],
   "source": [
    "### train a model on original features\n",
    "base.fit(X_train, y_train)\n",
    "y_pred = base.predict(X_test)"
   ]
  },
  {
   "cell_type": "code",
   "execution_count": 12,
   "metadata": {},
   "outputs": [
    {
     "name": "stdout",
     "output_type": "stream",
     "text": [
      "Bal accu 70%\n",
      "              precision    recall  f1-score   support\n",
      "\n",
      "           0       0.79      0.78      0.78        99\n",
      "           1       0.61      0.62      0.61        55\n",
      "\n",
      "    accuracy                           0.72       154\n",
      "   macro avg       0.70      0.70      0.70       154\n",
      "weighted avg       0.72      0.72      0.72       154\n",
      "\n",
      "final average balanced accuracy score = 0.70\n"
     ]
    },
    {
     "data": {
      "text/plain": [
       "0.6979797979797979"
      ]
     },
     "execution_count": 12,
     "metadata": {},
     "output_type": "execute_result"
    }
   ],
   "source": [
    "from print_metrics import print_classification_metrics, print_regression_metrics\n",
    "print_classification_metrics(y_test, y_pred, verbose=1)"
   ]
  },
  {
   "cell_type": "markdown",
   "metadata": {},
   "source": [
    "### The baseline balanced accuracy score with 8 original features is 71%"
   ]
  },
  {
   "cell_type": "code",
   "execution_count": 13,
   "metadata": {},
   "outputs": [],
   "source": [
    "## train a model on engineered features\n",
    "eng.fit(X_trans, y_train)\n",
    "y_pred = eng.predict(X_test_trans)"
   ]
  },
  {
   "cell_type": "code",
   "execution_count": 14,
   "metadata": {},
   "outputs": [
    {
     "name": "stdout",
     "output_type": "stream",
     "text": [
      "Bal accu 71%\n",
      "              precision    recall  f1-score   support\n",
      "\n",
      "           0       0.79      0.80      0.79        99\n",
      "           1       0.63      0.62      0.62        55\n",
      "\n",
      "    accuracy                           0.73       154\n",
      "   macro avg       0.71      0.71      0.71       154\n",
      "weighted avg       0.73      0.73      0.73       154\n",
      "\n",
      "final average balanced accuracy score = 0.71\n"
     ]
    },
    {
     "data": {
      "text/plain": [
       "0.7080808080808081"
      ]
     },
     "execution_count": 14,
     "metadata": {},
     "output_type": "execute_result"
    }
   ],
   "source": [
    "from print_metrics import print_classification_metrics, print_regression_metrics\n",
    "print_classification_metrics(y_test, y_pred, verbose=1)"
   ]
  },
  {
   "cell_type": "markdown",
   "metadata": {},
   "source": [
    "### The Leakage Free OpenFE enriched features give only 1% extra balanced accuracy with 28 features\n",
    "Though the increase in accuracy is very small, it is better than having very high accuracy with data leakage"
   ]
  },
  {
   "cell_type": "markdown",
   "metadata": {},
   "source": []
  }
 ],
 "metadata": {
  "kernelspec": {
   "display_name": "base",
   "language": "python",
   "name": "python3"
  },
  "language_info": {
   "codemirror_mode": {
    "name": "ipython",
    "version": 3
   },
   "file_extension": ".py",
   "mimetype": "text/x-python",
   "name": "python",
   "nbconvert_exporter": "python",
   "pygments_lexer": "ipython3",
   "version": "3.12.3"
  }
 },
 "nbformat": 4,
 "nbformat_minor": 2
}
