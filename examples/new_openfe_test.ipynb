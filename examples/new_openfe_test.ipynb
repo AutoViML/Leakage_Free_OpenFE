{
 "cells": [
  {
   "cell_type": "code",
   "execution_count": null,
   "metadata": {},
   "outputs": [],
   "source": [
    "import numpy as np\n",
    "import pandas as pd\n",
    "from sklearn.model_selection import train_test_split\n",
    "from sklearn.datasets import load_breast_cancer, load_iris, load_wine, fetch_openml\n",
    "from sklearn.ensemble import RandomForestClassifier, RandomForestRegressor\n",
    "from leakage_free_openfe import OpenFE"
   ]
  },
  {
   "cell_type": "markdown",
   "metadata": {},
   "source": [
    "# we are now going to test a sample dataset with engineered features from Leakage-Free-OpenFE"
   ]
  },
  {
   "cell_type": "code",
   "execution_count": null,
   "metadata": {},
   "outputs": [],
   "source": [
    "X, y = fetch_openml(name='diabetes', version=1, return_X_y=True, as_frame=True)\n",
    "X.columns = ['col_'+str(x+1) for x in range(len(X.columns))]\n",
    "y = y.map({'tested_positive': 1, 'tested_negative': 0}).astype(int)\n",
    "print('Data dimensions (%d rows x %d cols)' %(X.shape[0], X.shape[1]))\n",
    "X_train, X_test, y_train, y_test = train_test_split(X, y, test_size=0.2, random_state=42)\n",
    "print('Train data dimensions (rows x cols) = %d dims' %(int(X_train.shape[0]*X_train.shape[1])))\n",
    "print('Test data dimensions (rows x cols) = %d dims' %(int(X_test.shape[0]*X_test.shape[1])))"
   ]
  },
  {
   "cell_type": "code",
   "execution_count": null,
   "metadata": {},
   "outputs": [],
   "source": [
    "base = RandomForestClassifier(n_estimators=100, random_state=42)\n",
    "eng = RandomForestClassifier(n_estimators=100, random_state=42)"
   ]
  },
  {
   "cell_type": "code",
   "execution_count": null,
   "metadata": {},
   "outputs": [],
   "source": [
    "# Training phase\n",
    "ofe = OpenFE()\n",
    "X.head(2), y.head(2)"
   ]
  },
  {
   "cell_type": "code",
   "execution_count": null,
   "metadata": {},
   "outputs": [],
   "source": [
    "features = ofe.fit(X_train, y_train)"
   ]
  },
  {
   "cell_type": "code",
   "execution_count": null,
   "metadata": {},
   "outputs": [],
   "source": [
    "X_trans = ofe.transform(X_train, is_train=True, new_features_list=features[:10], n_jobs=4)\n",
    "print(X_train.shape)\n",
    "print('Transformed shape: ', X_trans.shape)"
   ]
  },
  {
   "cell_type": "code",
   "execution_count": null,
   "metadata": {},
   "outputs": [],
   "source": [
    "# Test phase - uses stored training stats\n",
    "X_test_trans = ofe.transform(X_test, is_train=False, new_features_list=features[:10], n_jobs=4)\n",
    "print(X_test.shape)\n",
    "print('Transformed test: ', X_test_trans.shape)"
   ]
  },
  {
   "cell_type": "code",
   "execution_count": null,
   "metadata": {},
   "outputs": [],
   "source": [
    "from leakage_free_openfe import tree_to_formula\n",
    "print(len(features))\n",
    "print('printing the first five features:')\n",
    "for ax in features[:5]:\n",
    "    print(tree_to_formula(ax))"
   ]
  },
  {
   "cell_type": "code",
   "execution_count": null,
   "metadata": {},
   "outputs": [],
   "source": [
    "### train a model on original features\n",
    "base.fit(X_train, y_train)\n",
    "y_pred = base.predict(X_test)"
   ]
  },
  {
   "cell_type": "code",
   "execution_count": null,
   "metadata": {},
   "outputs": [],
   "source": [
    "from print_metrics import print_classification_metrics, print_regression_metrics\n",
    "print_classification_metrics(y_test, y_pred, verbose=1)"
   ]
  },
  {
   "cell_type": "markdown",
   "metadata": {},
   "source": [
    "### The baseline balanced accuracy score with 8 original features is 71%"
   ]
  },
  {
   "cell_type": "code",
   "execution_count": null,
   "metadata": {},
   "outputs": [],
   "source": [
    "print(X_trans.shape)\n",
    "X_trans = X_trans.replace([np.inf, -np.inf], np.nan).dropna()\n",
    "print(X_trans.shape)"
   ]
  },
  {
   "cell_type": "code",
   "execution_count": null,
   "metadata": {},
   "outputs": [],
   "source": [
    "y_train = y_train.loc[X_trans.index]\n",
    "y_train.shape"
   ]
  },
  {
   "cell_type": "code",
   "execution_count": null,
   "metadata": {},
   "outputs": [],
   "source": [
    "## train a model on engineered features\n",
    "eng.fit(X_trans, y_train)"
   ]
  },
  {
   "cell_type": "code",
   "execution_count": null,
   "metadata": {},
   "outputs": [],
   "source": [
    "y_pred = eng.predict(X_test_trans)"
   ]
  },
  {
   "cell_type": "code",
   "execution_count": null,
   "metadata": {},
   "outputs": [],
   "source": [
    "from print_metrics import print_classification_metrics, print_regression_metrics\n",
    "print_classification_metrics(y_test, y_pred, verbose=1)"
   ]
  },
  {
   "cell_type": "markdown",
   "metadata": {},
   "source": [
    "### The Leakage Free OpenFE enriched features give only 1% extra balanced accuracy with 28 features\n",
    "Though the increase in accuracy is very small, it is better than having very high accuracy with data leakage"
   ]
  },
  {
   "cell_type": "markdown",
   "metadata": {},
   "source": []
  }
 ],
 "metadata": {
  "kernelspec": {
   "display_name": "base",
   "language": "python",
   "name": "python3"
  },
  "language_info": {
   "codemirror_mode": {
    "name": "ipython",
    "version": 3
   },
   "file_extension": ".py",
   "mimetype": "text/x-python",
   "name": "python",
   "nbconvert_exporter": "python",
   "pygments_lexer": "ipython3",
   "version": "3.12.3"
  }
 },
 "nbformat": 4,
 "nbformat_minor": 2
}
